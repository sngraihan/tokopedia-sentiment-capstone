{
  "nbformat": 4,
  "nbformat_minor": 0,
  "metadata": {
    "colab": {
      "provenance": []
    },
    "kernelspec": {
      "name": "python3",
      "display_name": "Python 3"
    },
    "language_info": {
      "name": "python"
    }
  },
  "cells": [
    {
      "cell_type": "code",
      "execution_count": null,
      "metadata": {
        "id": "LfYT7GRqfEU7"
      },
      "outputs": [],
      "source": [
        "# ================================\n",
        "# 1) Load data bersih\n",
        "# ================================\n",
        "df = pd.read_csv(\"tokopedia_reviews_clean.csv\")\n",
        "\n",
        "# Kita pakai label 'sentiment' (neg/neu/pos) yang diturunkan dari rating\n",
        "df = df.dropna(subset=[\"text\",\"sentiment\"]).drop_duplicates(subset=[\"text\"]).reset_index(drop=True)\n",
        "\n",
        "# Subset kecil dulu saat test koneksi (hemat kredit & waktu)\n",
        "df_small = df.sample(60, random_state=42).reset_index(drop=True)\n",
        "df_small[\"text\"] = df_small[\"text\"].astype(str)\n",
        "\n",
        "df_small.head(3)\n"
      ]
    },
    {
      "cell_type": "code",
      "source": [
        "# ================================\n",
        "# 2) Helper: Prompt & parsing output\n",
        "# ================================\n",
        "SENTINEL = {\"neg\",\"neu\",\"pos\"}\n",
        "\n",
        "FEW_SHOT = \"\"\"You are a sentiment classifier for Indonesian e-commerce product reviews.\n",
        "Output ONLY one of: neg, neu, pos (lowercase).\n",
        "Guidelines:\n",
        "- neg: keluhan, kecewa, rusak, telat, tidak sesuai.\n",
        "- neu: biasa saja, netral, antara puas dan tidak puas.\n",
        "- pos: puas, bagus, sesuai, cepat, rekomendasi.\n",
        "\n",
        "Contoh:\n",
        "Review: \"Barangnya jelek, kardus penyok, penjual slow response.\"\n",
        "Label: neg\n",
        "\n",
        "Review: \"Biasa aja sih, sesuai harga.\"\n",
        "Label: neu\n",
        "\n",
        "Review: \"Mantap, barang ori, pengiriman cepat. Recommended!\"\n",
        "Label: pos\n",
        "\"\"\"\n",
        "\n",
        "def build_prompt(review_text: str) -> str:\n",
        "    return FEW_SHOT + f'\\n\\nReview: \"{review_text}\"\\nLabel:'\n",
        "\n",
        "def normalize_label(model_text: str) -> str:\n",
        "    # Ambil token pertama yang mirip neg/neu/pos\n",
        "    if not isinstance(model_text, str):\n",
        "        return \"neu\"\n",
        "    text = model_text.strip().lower()\n",
        "    # ambil kata pertama / token yang relevan\n",
        "    m = re.search(r\"(neg|neu|pos)\", text)\n",
        "    return m.group(1) if m else \"neu\"\n"
      ],
      "metadata": {
        "id": "kVlyRjkTf091"
      },
      "execution_count": null,
      "outputs": []
    },
    {
      "cell_type": "code",
      "source": [
        "# ================================\n",
        "# 3) Single-call test (sanity check)\n",
        "# ================================\n",
        "test_text = \"Barangnya bagus, pengiriman cepat dan sesuai deskripsi.\"\n",
        "out = replicate.run(MODEL_SLUG, input={\"prompt\": build_prompt(test_text)})\n",
        "# Output bisa berupa list tokens atau string, handle keduanya\n",
        "if isinstance(out, list):\n",
        "    out = \"\".join(out)\n",
        "print(\"RAW:\", out)\n",
        "print(\"PARSED:\", normalize_label(out))\n"
      ],
      "metadata": {
        "id": "uxq3iZIDf2Ik"
      },
      "execution_count": null,
      "outputs": []
    },
    {
      "cell_type": "code",
      "source": [
        "# ================================\n",
        "# 4) Batch inference (mini-batching + retry)\n",
        "# NOTE: Replicate punya rate limit; kita batch kecil2 dan kasih retry.\n",
        "# ================================\n",
        "def granite_predict_labels(texts, model_slug=MODEL_SLUG, max_retries=3, sleep_base=2.0):\n",
        "    preds = []\n",
        "    for t in tqdm(texts):\n",
        "        attempt = 0\n",
        "        while True:\n",
        "            try:\n",
        "                out = replicate.run(model_slug, input={\"prompt\": build_prompt(t)})\n",
        "                if isinstance(out, list):\n",
        "                    out = \"\".join(out)\n",
        "                preds.append(normalize_label(out))\n",
        "                break\n",
        "            except Exception as e:\n",
        "                attempt += 1\n",
        "                if attempt > max_retries:\n",
        "                    # fallback: kalau error terus, kasih 'neu'\n",
        "                    preds.append(\"neu\")\n",
        "                    break\n",
        "                time.sleep(sleep_base * attempt)\n",
        "    return preds\n",
        "\n",
        "texts = df_small[\"text\"].tolist()\n",
        "y_true = df_small[\"sentiment\"].tolist()\n",
        "\n",
        "y_pred = granite_predict_labels(texts)\n",
        "df_small[\"granite_pred\"] = y_pred\n",
        "\n",
        "print(df_small[[\"text\",\"sentiment\",\"granite_pred\"]].head(10))\n",
        "print(\"\\nMacro-F1 (sample):\", f1_score(y_true, y_pred, average=\"macro\"))\n",
        "print(\"\\nReport:\\n\", classification_report(y_true, y_pred, digits=4))\n"
      ],
      "metadata": {
        "id": "-fDydVLof3oA"
      },
      "execution_count": null,
      "outputs": []
    },
    {
      "cell_type": "code",
      "source": [
        "# ================================\n",
        "# 5) Evaluasi skala lebih besar\n",
        "# ================================\n",
        "N = 1000\n",
        "df_eval = df.sample(min(N, len(df)), random_state=123).reset_index(drop=True)\n",
        "y_true_eval = df_eval[\"sentiment\"].tolist()\n",
        "pred_eval = granite_predict_labels(df_eval[\"text\"].tolist())\n",
        "\n",
        "print(\"Macro-F1 (N={}):\".format(len(df_eval)), f1_score(y_true_eval, pred_eval, average=\"macro\"))\n",
        "print(classification_report(y_true_eval, pred_eval, digits=4))\n",
        "df_eval[\"granite_pred\"] = pred_eval\n",
        "df_eval.to_csv(\"granite_predictions_eval.csv\", index=False)\n"
      ],
      "metadata": {
        "id": "njeVYzUNf48F"
      },
      "execution_count": null,
      "outputs": []
    },
    {
      "cell_type": "code",
      "source": [
        "# ================================\n",
        "# 6) Summarization (Insight per-Produk / per-Kategori)\n",
        "# Kita ambil 100 review per kategori/produk, minta Granite rangkum keluhan & pujian utama\n",
        "# ================================\n",
        "def summarize_reviews(reviews, model_slug=MODEL_SLUG, max_chars=6000):\n",
        "    # gabung review jadi blok panjang, tapi batasi karakter biar aman\n",
        "    block = \"\\n- \" + \"\\n- \".join(reviews)\n",
        "    block = block[:max_chars]\n",
        "    prompt = f\"\"\"\n",
        "You are an analyst. Read these Indonesian e-commerce reviews (bullet points) and produce:\n",
        "1) Top 3 complaints (singkat, poin-poin)\n",
        "2) Top 3 positives (singkat, poin-poin)\n",
        "3) One actionable recommendation\n",
        "\n",
        "Output in Indonesian, concise.\n",
        "\n",
        "Reviews:\n",
        "{block}\n",
        "\"\"\"\n",
        "    out = replicate.run(model_slug, input={\"prompt\": prompt})\n",
        "    if isinstance(out, list):\n",
        "        out = \"\".join(out)\n",
        "    return out.strip()\n",
        "\n",
        "# Contoh: per-kategori\n",
        "cat = df[\"category\"].value_counts().index[0]\n",
        "sample_reviews = df.loc[df[\"category\"]==cat, \"text\"].astype(str).head(120).tolist()\n",
        "summary_cat = summarize_reviews(sample_reviews)\n",
        "print(f\"== Ringkasan kategori: {cat} ==\")\n",
        "print(summary_cat)\n",
        "\n",
        "with open(f\"summary_category_{cat}.txt\",\"w\", encoding=\"utf-8\") as f:\n",
        "    f.write(summary_cat)\n"
      ],
      "metadata": {
        "id": "BtGPkkBLf6MI"
      },
      "execution_count": null,
      "outputs": []
    }
  ]
}